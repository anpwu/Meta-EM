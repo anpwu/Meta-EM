{
 "cells": [
  {
   "cell_type": "markdown",
   "metadata": {},
   "source": [
    "# 1. Generate Data & Meta-EM Algorithm"
   ]
  },
  {
   "cell_type": "code",
   "execution_count": null,
   "metadata": {},
   "outputs": [],
   "source": [
    "import os\n",
    "import numpy as np\n",
    "from utils import trainEnv, trainParams, Log\n",
    "from run_generator import Gen_fn_IVCluster\n",
    "from MetaEM.framework import process as MetaEMprocess\n",
    "from MMD import Trainer\n",
    "\n",
    "G=True\n",
    "Env = trainEnv(CUDA=1)\n",
    "args = Env.args\n",
    "\n",
    "Params = trainParams(args)\n",
    "Params.save_json()\n",
    "resultDir = Params.resultDir\n",
    "\n",
    "Gen = Gen_fn_IVCluster()\n",
    "Gen.set_Configuration(Params.gens_dict)\n",
    "Gen.initiation(G)\n",
    "\n",
    "representation_block = 'poly' # 'poly', 'neural', 'mixed'\n",
    "distribution_block = 'EM' # 'EM', 'KM'\n",
    "\n",
    "neural_config = {'reps':args.reps, \n",
    "                'batch_size':400, \n",
    "                'epoch':200, \n",
    "                'beta1':0.9, \n",
    "                'beta2':0.999, \n",
    "                'lr':1e-3, \n",
    "                'poly_order':2,\n",
    "                }\n",
    "neural_config['reps'] = 3\n",
    "\n",
    "MetaEMprocess(neural_config, Gen, Trainer, resultDir, representation_block, distribution_block)\n",
    "\n",
    "for rep_block in ['poly', 'neural', 'mixed']:\n",
    "    for dist_block in ['EM', 'KM']:\n",
    "        MetaEMprocess(neural_config, Gen, Trainer, resultDir, rep_block, dist_block)"
   ]
  },
  {
   "cell_type": "markdown",
   "metadata": {},
   "source": [
    "# 2. Plug GIV into IV Regression Methods for estimating effects "
   ]
  },
  {
   "cell_type": "code",
   "execution_count": null,
   "metadata": {},
   "outputs": [],
   "source": [
    "from utils import trainEnv, trainParams, Log, cat, draw_loss, set_seed\n",
    "from Generator import Gen_fn_IVCluster\n",
    "from MetaEM.framework import get_IV\n",
    "import time\n",
    "import numpy as np\n",
    "import pandas as pd\n",
    "\n",
    "def run_single(run, exp, data, train_dict, log, device, resultDir, others, method):\n",
    "    set_seed(train_dict['seed'])\n",
    "    start = time.time()\n",
    "    estimation = run(exp, data, train_dict, log, device, resultDir, others)\n",
    "    end = time.time()\n",
    "    train_res, train_plot = draw_loss(data.train, estimation, resultDir, method, 'train', exp)\n",
    "    test_res, test_plot = draw_loss(data.test, estimation, resultDir, method, 'test', exp)\n",
    "    print(\"exp {}: {:.2f}s\".format(exp, end-start))\n",
    "\n",
    "    return cat([train_res, test_res], 1), cat([train_plot, test_plot], 1), end-start\n",
    "\n",
    "def run_reps(run, reps, log, device, resultDir, others, key, method):\n",
    "    Results, Plots, Times = [], [], []\n",
    "    train_dict = Params.train_dict[key]\n",
    "    K = 'best'\n",
    "    method = method.format(K)\n",
    "\n",
    "    if reps > train_dict['reps'] or reps <= 0: reps = train_dict['reps']\n",
    "    for exp in range(reps):\n",
    "        data = Gen.get_exp(exp)\n",
    "        get_IV(data, resultDir, exp, D=K, rep_block='poly', dist_block='EM')\n",
    "        single_result, single_plot, single_time = run_single(run, exp, data, train_dict, log, device, resultDir, others, method)\n",
    "        Results.append(single_result)\n",
    "        Plots.append(single_plot)\n",
    "        Times.append(single_time)\n",
    "\n",
    "    Results = cat(Results,0)\n",
    "    Plots = np.array(Plots)\n",
    "    Times = np.array(Times)\n",
    "\n",
    "    mean = np.mean(Results,axis=0, keepdims=True)\n",
    "    std = np.std(Results,axis=0,keepdims=True)\n",
    "    Results = cat([Results, mean, std], 0)\n",
    "\n",
    "    Results_df = pd.DataFrame(Results, index=list(range(len(Results)-2))+['mean','std'], columns=[f'{mode}-{loss}' for mode in ['train','test'] for loss in ['g(0)','f(0,x)','f(0,x)+u','g(t)','f(t,x)','f(t,x)+u']]).round(4)\n",
    "    \n",
    "    Results_df.to_csv(f'{resultDir}{method}-{key}.csv')\n",
    "    np.savez(f'{resultDir}{method}-{key}.npz', Results=Results, Plots=Plots, Times=Times)\n",
    "    return Results, Plots, Times, Results_df\n",
    "\n",
    "Env = trainEnv(CUDA=3)\n",
    "device = Env.device\n",
    "args = Env.args\n",
    "\n",
    "Params = trainParams(args)\n",
    "Params.save_json()\n",
    "resultDir = Params.resultDir\n",
    "\n",
    "log = Log(Params.log_dict)\n",
    "Gen = Gen_fn_IVCluster(Params.gens_dict, G=False)\n",
    "others = {}"
   ]
  },
  {
   "cell_type": "code",
   "execution_count": null,
   "metadata": {},
   "outputs": [],
   "source": [
    "from Module.Covariants.NN.DirectNN_X import run as run0\n",
    "from Module.Instruments.TwoSLS.Vanilla import run as run1\n",
    "from Module.Instruments.TwoSLS.Poly import run as run2\n",
    "from Module.Instruments.NN.DirectNN_IV import run as run3\n",
    "from Module.Instruments.DeepIV.DeepIV_V1 import run as run4\n",
    "from Module.Instruments.KernelIV.KernelIV_V1 import run as run5\n",
    "from Module.Instruments.OneSIV.OneSIV import run as run6\n",
    "from Module.Instruments.DFIV.DFIV_V2 import run as run7\n",
    "from Module.Instruments.DeepGMM.DeepGMM_V2 import run as run8\n",
    "from Module.Instruments.AGMM.AGMM_V1 import run as run9\n",
    "from Module.Instruments.DualIV.DualIV_V1 import run as runt\n",
    "\n",
    "re1 = run_reps(run1, args.reps, log, device, resultDir, others, 'nn', 'EMIV{}-Vanilla2Stage')\n",
    "re2 = run_reps(run2, args.reps, log, device, resultDir, others, 'nn', 'EMIV{}-Poly2Stage')\n",
    "re3 = run_reps(run3, args.reps, log, device, resultDir, others, 'nn', 'EMIV{}-NN2Stage')\n",
    "# re4 = run_reps(run4, args.reps, log, device, resultDir, others, 'deepiv', 'EMIV{}-DeepIV')\n",
    "# re5 = run_reps(run5, args.reps, log, device, resultDir, others, 'dfiv', 'EMIV{}-KernelIV')\n",
    "# re6 = run_reps(run6, args.reps, log, device, resultDir, others, 'onesiv', 'EMIV{}-OneSIV')\n",
    "# re7 = run_reps(run7, args.reps, log, device, resultDir, others, 'dfiv', 'EMIV{}-DFIV')\n",
    "# re8 = run_reps(run8, args.reps, log, device, resultDir, others, 'deepgmm', 'EMIV{}-DeepGMM')\n",
    "# re9 = run_reps(run9, args.reps, log, device, resultDir, others, 'agmm', 'EMIV{}-AGMM')\n",
    "# re0 = run_reps(run0, args.reps, log, device, resultDir, others, 'nn', 'EMIV{}-X')\n",
    "# ret = run_reps(runt, args.reps, log, device, resultDir, others, 'dfiv', 'EMIV{}-DualIV')\n"
   ]
  }
 ],
 "metadata": {
  "kernelspec": {
   "display_name": "Python 3.6.10 ('torch-1.2': conda)",
   "language": "python",
   "name": "python3"
  },
  "language_info": {
   "codemirror_mode": {
    "name": "ipython",
    "version": 3
   },
   "file_extension": ".py",
   "mimetype": "text/x-python",
   "name": "python",
   "nbconvert_exporter": "python",
   "pygments_lexer": "ipython3",
   "version": "3.6.10"
  },
  "orig_nbformat": 4,
  "vscode": {
   "interpreter": {
    "hash": "50e73365aaf20d57985b9f1b6cf6c4c53db8cfbd49fff6a93d4b7579e7d5676d"
   }
  }
 },
 "nbformat": 4,
 "nbformat_minor": 2
}
